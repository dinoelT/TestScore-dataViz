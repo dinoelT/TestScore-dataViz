{
  "nbformat": 4,
  "nbformat_minor": 0,
  "metadata": {
    "colab": {
      "name": "testScore_viz.ipynb",
      "provenance": [],
      "collapsed_sections": [],
      "authorship_tag": "ABX9TyOXhZRQdbSThgSNc+bK3mJF",
      "include_colab_link": true
    },
    "kernelspec": {
      "name": "python3",
      "display_name": "Python 3"
    },
    "language_info": {
      "name": "python"
    }
  },
  "cells": [
    {
      "cell_type": "markdown",
      "metadata": {
        "id": "view-in-github",
        "colab_type": "text"
      },
      "source": [
        "<a href=\"https://colab.research.google.com/github/dinoelT/TestScore-dataViz/blob/main/testScore_viz.ipynb\" target=\"_parent\"><img src=\"https://colab.research.google.com/assets/colab-badge.svg\" alt=\"Open In Colab\"/></a>"
      ]
    },
    {
      "cell_type": "code",
      "metadata": {
        "id": "ZxKzSM8QCf4s"
      },
      "source": [
        "import altair as alt\n",
        "import pandas as pd\n",
        "import requests\n",
        "import codecs\n",
        "from requests.exceptions import HTTPError\n",
        "import openpyxl"
      ],
      "execution_count": 1,
      "outputs": []
    },
    {
      "cell_type": "code",
      "metadata": {
        "id": "08KuoCZ1eAfx"
      },
      "source": [
        "#Add export?format=xlsx after id\n",
        "url = \"https://docs.google.com/spreadsheets/d/1pUDOO5rROKI20sP5p5_2gVCMvsOoBoFzYUNtz2fZYqA/export?format=xlsx\""
      ],
      "execution_count": 2,
      "outputs": []
    },
    {
      "cell_type": "code",
      "metadata": {
        "colab": {
          "base_uri": "https://localhost:8080/"
        },
        "id": "oh0ZwdBWa9Ll",
        "outputId": "43e6c7ca-0106-4a26-8bbf-9af1fb47dce8"
      },
      "source": [
        "\n",
        "try:\n",
        "  #Send get request\n",
        "  response = requests.get(url)\n",
        "  # If the response was successful, no Exception will be raised\n",
        "  response.raise_for_status()\n",
        "except HTTPError as http_err:\n",
        "  print(f'HTTP error occurred: {http_err}')\n",
        "except Exception as err:\n",
        "  print(f'Other error occurred: {err}')\n",
        "else:\n",
        "  print('Request successfully!')"
      ],
      "execution_count": 3,
      "outputs": [
        {
          "output_type": "stream",
          "text": [
            "Request successfully!\n"
          ],
          "name": "stdout"
        }
      ]
    },
    {
      "cell_type": "code",
      "metadata": {
        "colab": {
          "base_uri": "https://localhost:8080/"
        },
        "id": "ABSb72vMiqIb",
        "outputId": "1bd4bce9-5826-4dce-ed50-809a8ebfb10b"
      },
      "source": [
        "excelFileName = \"excel.xlsx\"\n",
        "\n",
        "writeSuccessful = True\n",
        "try:\n",
        "  with codecs.open(excelFileName, 'wb') as f:\n",
        "    f.write(response.content)\n",
        "except Exception as err:\n",
        "  print(f\"Error occured when writing file: {err}\")\n",
        "  writeSuccessful = False\n",
        "else:\n",
        "  print(\"Excel file written successfully\")\n"
      ],
      "execution_count": 4,
      "outputs": [
        {
          "output_type": "stream",
          "text": [
            "Excel file written successfully\n"
          ],
          "name": "stdout"
        }
      ]
    },
    {
      "cell_type": "code",
      "metadata": {
        "colab": {
          "base_uri": "https://localhost:8080/"
        },
        "id": "WgSmzkMvkcTV",
        "outputId": "0e5f52c9-f1e1-4232-a965-34997496b2f7"
      },
      "source": [
        "#Get the sheet names in excel. \n",
        "sheetNames = openpyxl.load_workbook(excelFileName, read_only=True).sheetnames\n",
        "sheetNamesDict = {s:'' for s in sheetNames}\n",
        "print(f\"sheetNamesDict = {sheetNamesDict}\")"
      ],
      "execution_count": 5,
      "outputs": [
        {
          "output_type": "stream",
          "text": [
            "sheetNamesDict = {'ИТБ': '', 'ФЭТ': '', 'ФМ': ''}\n"
          ],
          "name": "stdout"
        }
      ]
    },
    {
      "cell_type": "code",
      "metadata": {
        "id": "Sgi9sw0S0VB9"
      },
      "source": [
        "#Altair does not work with russian characters. Define sheet names in english\n",
        "sheetNamesDict = {'ИТБ': 'ITMB', 'ФЭТ': 'FET', 'ФМ': 'FM'}"
      ],
      "execution_count": 6,
      "outputs": []
    },
    {
      "cell_type": "code",
      "metadata": {
        "id": "13T0H_TVnGvR"
      },
      "source": [
        "if writeSuccessful:\n",
        "  dataSource = excelFileName\n",
        "else:\n",
        "  dataSource = response.content\n",
        "\n",
        "#Read pandas dataframes from Excel file that was saved\n",
        "dfs = []\n",
        "for sheetNameRu in sheetNamesDict:\n",
        "  df = pd.read_excel(dataSource, header=1, sheet_name=sheetNameRu)\n",
        "  sheetNameEn = sheetNamesDict[sheetNameRu]\n",
        "  df['program'] = sheetNameEn\n",
        "  dfs.append(df)"
      ],
      "execution_count": 7,
      "outputs": []
    },
    {
      "cell_type": "code",
      "metadata": {
        "id": "bMXbwaScqDRQ"
      },
      "source": [
        "#Concatenate the dataframes from all sheets\n",
        "df = pd.concat(dfs, ignore_index=True)\n",
        "\n",
        "#Drop the columns which have all nan values\n",
        "df = df.dropna(axis='columns', how = 'all')"
      ],
      "execution_count": 8,
      "outputs": []
    },
    {
      "cell_type": "code",
      "metadata": {
        "colab": {
          "base_uri": "https://localhost:8080/"
        },
        "id": "kvjqSEP9qvUd",
        "outputId": "49e3092c-0835-4975-faf7-78eee7021a23"
      },
      "source": [
        "columnNamesDict = {col : '' for col in list(df.columns)} \n",
        "print(f\"columnNamesDict = {columnNamesDict}\")"
      ],
      "execution_count": 9,
      "outputs": [
        {
          "output_type": "stream",
          "text": [
            "columnNamesDict = {'№': '', 'ФИО': '', 'сумма баллов': '', 'Мат.': '', 'Русс.': '', 'ИКТ': '', 'Бюджет/договор': '', 'program': '', 'Ин.яз': ''}\n"
          ],
          "name": "stdout"
        }
      ]
    },
    {
      "cell_type": "code",
      "metadata": {
        "id": "29o0FJXl2o6w"
      },
      "source": [
        "#Remove the columns that you don't need and provide the english translation for the columns left\n",
        "#columnNamesDict = {'№': '', 'ФИО': '', 'сумма баллов': '', 'Мат.': '', 'Русс.': '', 'ИКТ': '', 'Бюджет/договор': '', 'program': '', 'Ин.яз': ''}\n",
        "columnNamesDict = {'ФИО': 'name', 'сумма баллов': 'total_score', 'Мат.': 'ege_math', 'Русс.': 'ege_russian', 'ИКТ': 'ege_it', 'Бюджет/договор': 'is_budget_placement', 'program': 'program', 'Ин.яз': 'ege_foreign'}"
      ],
      "execution_count": 10,
      "outputs": []
    },
    {
      "cell_type": "code",
      "metadata": {
        "id": "yoRVcFo0Lb8I"
      },
      "source": [
        "#Filter only the needed columns\n",
        "df = df[columnNamesDict.keys()]\n",
        "\n",
        "#Replace the russian column names with the english stored in the dictionary\n",
        "columnNamesEn = [columnNamesDict[col_ru] for col_ru in df.columns]\n",
        "df.columns = columnNamesEn"
      ],
      "execution_count": 11,
      "outputs": []
    },
    {
      "cell_type": "code",
      "metadata": {
        "colab": {
          "base_uri": "https://localhost:8080/"
        },
        "id": "IZMK3BAZWJNX",
        "outputId": "7d42cd56-3a40-4dff-a88b-ba17eb904bc0"
      },
      "source": [
        "#Distinct values in is_budget_placement column\n",
        "print(f\"Distinct values in is_budget_placement column: {df.is_budget_placement.unique()}\")\n",
        "\n",
        "#Replace 'договор' with False\n",
        "df.is_budget_placement.where(df.is_budget_placement != 'договор', False, inplace=True)\n",
        "#Replace 'Бюджет' with True\n",
        "df.is_budget_placement.where(df.is_budget_placement != 'Бюджет', True, inplace=True)\n",
        "#Replace Nan values with False\n",
        "df.is_budget_placement.fillna(value = False, inplace=True)"
      ],
      "execution_count": 12,
      "outputs": [
        {
          "output_type": "stream",
          "text": [
            "Distinct values in is_budget_placement column: ['договор' 'Бюджет' nan]\n"
          ],
          "name": "stdout"
        }
      ]
    },
    {
      "cell_type": "code",
      "metadata": {
        "colab": {
          "base_uri": "https://localhost:8080/",
          "height": 204
        },
        "id": "8Bm9MZ4Mr_jL",
        "outputId": "11523f29-77f9-46b6-ed87-f84eb6694993"
      },
      "source": [
        "df.head()"
      ],
      "execution_count": 13,
      "outputs": [
        {
          "output_type": "execute_result",
          "data": {
            "text/html": [
              "<div>\n",
              "<style scoped>\n",
              "    .dataframe tbody tr th:only-of-type {\n",
              "        vertical-align: middle;\n",
              "    }\n",
              "\n",
              "    .dataframe tbody tr th {\n",
              "        vertical-align: top;\n",
              "    }\n",
              "\n",
              "    .dataframe thead th {\n",
              "        text-align: right;\n",
              "    }\n",
              "</style>\n",
              "<table border=\"1\" class=\"dataframe\">\n",
              "  <thead>\n",
              "    <tr style=\"text-align: right;\">\n",
              "      <th></th>\n",
              "      <th>name</th>\n",
              "      <th>total_score</th>\n",
              "      <th>ege_math</th>\n",
              "      <th>ege_russian</th>\n",
              "      <th>ege_it</th>\n",
              "      <th>is_budget_placement</th>\n",
              "      <th>program</th>\n",
              "      <th>ege_foreign</th>\n",
              "    </tr>\n",
              "  </thead>\n",
              "  <tbody>\n",
              "    <tr>\n",
              "      <th>0</th>\n",
              "      <td>Абрамов Петр Александрович</td>\n",
              "      <td>243</td>\n",
              "      <td>75.0</td>\n",
              "      <td>98.0</td>\n",
              "      <td>70.0</td>\n",
              "      <td>False</td>\n",
              "      <td>ITMB</td>\n",
              "      <td>NaN</td>\n",
              "    </tr>\n",
              "    <tr>\n",
              "      <th>1</th>\n",
              "      <td>Амерханова Наргиза Артуровна</td>\n",
              "      <td>286</td>\n",
              "      <td>96.0</td>\n",
              "      <td>89.0</td>\n",
              "      <td>96.0</td>\n",
              "      <td>True</td>\n",
              "      <td>ITMB</td>\n",
              "      <td>NaN</td>\n",
              "    </tr>\n",
              "    <tr>\n",
              "      <th>2</th>\n",
              "      <td>Баранов Алексей Алексеевич</td>\n",
              "      <td>235</td>\n",
              "      <td>45.0</td>\n",
              "      <td>96.0</td>\n",
              "      <td>94.0</td>\n",
              "      <td>False</td>\n",
              "      <td>ITMB</td>\n",
              "      <td>NaN</td>\n",
              "    </tr>\n",
              "    <tr>\n",
              "      <th>3</th>\n",
              "      <td>Баубеков Мирас Булатулы</td>\n",
              "      <td>217</td>\n",
              "      <td>70.0</td>\n",
              "      <td>81.0</td>\n",
              "      <td>66.0</td>\n",
              "      <td>False</td>\n",
              "      <td>ITMB</td>\n",
              "      <td>NaN</td>\n",
              "    </tr>\n",
              "    <tr>\n",
              "      <th>4</th>\n",
              "      <td>Богун Владислав Олегович</td>\n",
              "      <td>242</td>\n",
              "      <td>78.0</td>\n",
              "      <td>85.0</td>\n",
              "      <td>79.0</td>\n",
              "      <td>False</td>\n",
              "      <td>ITMB</td>\n",
              "      <td>NaN</td>\n",
              "    </tr>\n",
              "  </tbody>\n",
              "</table>\n",
              "</div>"
            ],
            "text/plain": [
              "                           name total_score  ...  program  ege_foreign\n",
              "0    Абрамов Петр Александрович         243  ...     ITMB          NaN\n",
              "1  Амерханова Наргиза Артуровна         286  ...     ITMB          NaN\n",
              "2    Баранов Алексей Алексеевич         235  ...     ITMB          NaN\n",
              "3       Баубеков Мирас Булатулы         217  ...     ITMB          NaN\n",
              "4      Богун Владислав Олегович         242  ...     ITMB          NaN\n",
              "\n",
              "[5 rows x 8 columns]"
            ]
          },
          "metadata": {
            "tags": []
          },
          "execution_count": 13
        }
      ]
    },
    {
      "cell_type": "code",
      "metadata": {
        "colab": {
          "base_uri": "https://localhost:8080/",
          "height": 368
        },
        "id": "XeEpaGnzr_lp",
        "outputId": "f5503ab8-3532-479a-91e5-3d3a064a761d"
      },
      "source": [
        "x_col_name = 'ege_math'\n",
        "y_col_name = 'ege_russian'\n",
        "\n",
        "alt.Chart(df).mark_circle(size=100).encode(\n",
        "    alt.X(x_col_name, scale=alt.Scale(zero=False)),\n",
        "    alt.Y(y_col_name,scale=alt.Scale(zero=False)),\n",
        "    color='program',\n",
        "    tooltip=['name', 'total_score']\n",
        ").interactive()"
      ],
      "execution_count": 14,
      "outputs": [
        {
          "output_type": "execute_result",
          "data": {
            "text/plain": [
              "alt.Chart(...)"
            ],
            "text/html": [
              "\n",
              "<div id=\"altair-viz-9a8bec37d15b40ef847e9fc6ffc48542\"></div>\n",
              "<script type=\"text/javascript\">\n",
              "  (function(spec, embedOpt){\n",
              "    let outputDiv = document.currentScript.previousElementSibling;\n",
              "    if (outputDiv.id !== \"altair-viz-9a8bec37d15b40ef847e9fc6ffc48542\") {\n",
              "      outputDiv = document.getElementById(\"altair-viz-9a8bec37d15b40ef847e9fc6ffc48542\");\n",
              "    }\n",
              "    const paths = {\n",
              "      \"vega\": \"https://cdn.jsdelivr.net/npm//vega@5?noext\",\n",
              "      \"vega-lib\": \"https://cdn.jsdelivr.net/npm//vega-lib?noext\",\n",
              "      \"vega-lite\": \"https://cdn.jsdelivr.net/npm//vega-lite@4.8.1?noext\",\n",
              "      \"vega-embed\": \"https://cdn.jsdelivr.net/npm//vega-embed@6?noext\",\n",
              "    };\n",
              "\n",
              "    function loadScript(lib) {\n",
              "      return new Promise(function(resolve, reject) {\n",
              "        var s = document.createElement('script');\n",
              "        s.src = paths[lib];\n",
              "        s.async = true;\n",
              "        s.onload = () => resolve(paths[lib]);\n",
              "        s.onerror = () => reject(`Error loading script: ${paths[lib]}`);\n",
              "        document.getElementsByTagName(\"head\")[0].appendChild(s);\n",
              "      });\n",
              "    }\n",
              "\n",
              "    function showError(err) {\n",
              "      outputDiv.innerHTML = `<div class=\"error\" style=\"color:red;\">${err}</div>`;\n",
              "      throw err;\n",
              "    }\n",
              "\n",
              "    function displayChart(vegaEmbed) {\n",
              "      vegaEmbed(outputDiv, spec, embedOpt)\n",
              "        .catch(err => showError(`Javascript Error: ${err.message}<br>This usually means there's a typo in your chart specification. See the javascript console for the full traceback.`));\n",
              "    }\n",
              "\n",
              "    if(typeof define === \"function\" && define.amd) {\n",
              "      requirejs.config({paths});\n",
              "      require([\"vega-embed\"], displayChart, err => showError(`Error loading script: ${err.message}`));\n",
              "    } else if (typeof vegaEmbed === \"function\") {\n",
              "      displayChart(vegaEmbed);\n",
              "    } else {\n",
              "      loadScript(\"vega\")\n",
              "        .then(() => loadScript(\"vega-lite\"))\n",
              "        .then(() => loadScript(\"vega-embed\"))\n",
              "        .catch(showError)\n",
              "        .then(() => displayChart(vegaEmbed));\n",
              "    }\n",
              "  })({\"config\": {\"view\": {\"continuousWidth\": 400, \"continuousHeight\": 300}}, \"data\": {\"name\": \"data-f68ca90aae2d5d24b4ae34aec7a339f7\"}, \"mark\": {\"type\": \"circle\", \"size\": 100}, \"encoding\": {\"color\": {\"type\": \"nominal\", \"field\": \"program\"}, \"tooltip\": [{\"type\": \"nominal\", \"field\": \"name\"}, {\"type\": \"quantitative\", \"field\": \"total_score\"}], \"x\": {\"type\": \"quantitative\", \"field\": \"ege_math\", \"scale\": {\"zero\": false}}, \"y\": {\"type\": \"quantitative\", \"field\": \"ege_russian\", \"scale\": {\"zero\": false}}}, \"selection\": {\"selector001\": {\"type\": \"interval\", \"bind\": \"scales\", \"encodings\": [\"x\", \"y\"]}}, \"$schema\": \"https://vega.github.io/schema/vega-lite/v4.8.1.json\", \"datasets\": {\"data-f68ca90aae2d5d24b4ae34aec7a339f7\": [{\"name\": \"\\u0410\\u0431\\u0440\\u0430\\u043c\\u043e\\u0432 \\u041f\\u0435\\u0442\\u0440 \\u0410\\u043b\\u0435\\u043a\\u0441\\u0430\\u043d\\u0434\\u0440\\u043e\\u0432\\u0438\\u0447\", \"total_score\": 243, \"ege_math\": 75.0, \"ege_russian\": 98.0, \"ege_it\": 70.0, \"is_budget_placement\": false, \"program\": \"ITMB\", \"ege_foreign\": null}, {\"name\": \"\\u0410\\u043c\\u0435\\u0440\\u0445\\u0430\\u043d\\u043e\\u0432\\u0430 \\u041d\\u0430\\u0440\\u0433\\u0438\\u0437\\u0430 \\u0410\\u0440\\u0442\\u0443\\u0440\\u043e\\u0432\\u043d\\u0430\", \"total_score\": 286, \"ege_math\": 96.0, \"ege_russian\": 89.0, \"ege_it\": 96.0, \"is_budget_placement\": true, \"program\": \"ITMB\", \"ege_foreign\": null}, {\"name\": \"\\u0411\\u0430\\u0440\\u0430\\u043d\\u043e\\u0432 \\u0410\\u043b\\u0435\\u043a\\u0441\\u0435\\u0439 \\u0410\\u043b\\u0435\\u043a\\u0441\\u0435\\u0435\\u0432\\u0438\\u0447\", \"total_score\": 235, \"ege_math\": 45.0, \"ege_russian\": 96.0, \"ege_it\": 94.0, \"is_budget_placement\": false, \"program\": \"ITMB\", \"ege_foreign\": null}, {\"name\": \"\\u0411\\u0430\\u0443\\u0431\\u0435\\u043a\\u043e\\u0432 \\u041c\\u0438\\u0440\\u0430\\u0441 \\u0411\\u0443\\u043b\\u0430\\u0442\\u0443\\u043b\\u044b\", \"total_score\": 217, \"ege_math\": 70.0, \"ege_russian\": 81.0, \"ege_it\": 66.0, \"is_budget_placement\": false, \"program\": \"ITMB\", \"ege_foreign\": null}, {\"name\": \"\\u0411\\u043e\\u0433\\u0443\\u043d \\u0412\\u043b\\u0430\\u0434\\u0438\\u0441\\u043b\\u0430\\u0432 \\u041e\\u043b\\u0435\\u0433\\u043e\\u0432\\u0438\\u0447\", \"total_score\": 242, \"ege_math\": 78.0, \"ege_russian\": 85.0, \"ege_it\": 79.0, \"is_budget_placement\": false, \"program\": \"ITMB\", \"ege_foreign\": null}, {\"name\": \"\\u0411\\u043e\\u0439\\u0447\\u0435\\u043d\\u043a\\u043e \\u0410\\u043d\\u043d\\u0430 \\u0414\\u043c\\u0438\\u0442\\u0440\\u0438\\u0435\\u0432\\u043d\\u0430\", \"total_score\": 275, \"ege_math\": 86.0, \"ege_russian\": 89.0, \"ege_it\": 96.0, \"is_budget_placement\": true, \"program\": \"ITMB\", \"ege_foreign\": null}, {\"name\": \"\\u0412\\u043e\\u0440\\u043e\\u043d\\u043a\\u043e\\u0432 \\u0413\\u0435\\u043e\\u0440\\u0433\\u0438\\u0439 \\u042e\\u0440\\u044c\\u0435\\u0432\\u0438\\u0447\", \"total_score\": 184, \"ege_math\": 45.0, \"ege_russian\": 72.0, \"ege_it\": 67.0, \"is_budget_placement\": false, \"program\": \"ITMB\", \"ege_foreign\": null}, {\"name\": \"\\u0414\\u0430\\u043d\\u0438\\u043b\\u044c\\u0447\\u0435\\u043d\\u043a\\u043e \\u0418\\u043b\\u044c\\u044f \\u0412\\u043b\\u0430\\u0434\\u0438\\u043c\\u0438\\u0440\\u043e\\u0432\\u0438\\u0447\", \"total_score\": 253, \"ege_math\": 74.0, \"ege_russian\": 91.0, \"ege_it\": 83.0, \"is_budget_placement\": false, \"program\": \"ITMB\", \"ege_foreign\": null}, {\"name\": \"\\u0414\\u0435\\u043d\\u0438\\u0441\\u043e\\u0432\\u0430 \\u0410\\u043d\\u043d\\u0430 \\u041b\\u0435\\u043e\\u043d\\u0438\\u0434\\u043e\\u0432\\u043d\\u0430\", \"total_score\": 217, \"ege_math\": 72.0, \"ege_russian\": 71.0, \"ege_it\": 73.0, \"is_budget_placement\": false, \"program\": \"ITMB\", \"ege_foreign\": null}, {\"name\": \"\\u0414\\u0436\\u0430\\u043c\\u0430\\u043b\\u0443\\u0442\\u0434\\u0438\\u043d\\u043e\\u0432 \\u0422\\u0430\\u0433\\u0438\\u0440 \\u0421\\u0430\\u0438\\u0434\\u043e\\u0432\\u0438\\u0447\", \"total_score\": 192, \"ege_math\": 68.0, \"ege_russian\": 56.0, \"ege_it\": 68.0, \"is_budget_placement\": false, \"program\": \"ITMB\", \"ege_foreign\": null}, {\"name\": \"\\u041a\\u043b\\u0430\\u0434\\u044c\\u043a\\u043e \\u0412\\u0430\\u043b\\u0435\\u0440\\u0438\\u044f \\u041c\\u0438\\u0445\\u0430\\u0439\\u043b\\u043e\\u0432\\u043d\\u0430\", \"total_score\": 240, \"ege_math\": 74.0, \"ege_russian\": 80.0, \"ege_it\": 81.0, \"is_budget_placement\": false, \"program\": \"ITMB\", \"ege_foreign\": null}, {\"name\": \"\\u041b\\u0443\\u0448\\u043a\\u0438\\u043d \\u041c\\u0430\\u043a\\u0441\\u0438\\u043c \\u0414\\u043c\\u0438\\u0442\\u0440\\u0438\\u0435\\u0432\\u0438\\u0447\", \"total_score\": 214, \"ege_math\": 70.0, \"ege_russian\": 70.0, \"ege_it\": 73.0, \"is_budget_placement\": false, \"program\": \"ITMB\", \"ege_foreign\": null}, {\"name\": \"\\u041c\\u0430\\u0440\\u043a\\u043e\\u0432\\u0438\\u0447\\u0435\\u043d\\u043a\\u043e \\u041c\\u0430\\u043a\\u0441\\u0438\\u043c \\u0421\\u0435\\u0440\\u0433\\u0435\\u0435\\u0432\\u0438\\u0447\", \"total_score\": 272, \"ege_math\": 82.0, \"ege_russian\": 98.0, \"ege_it\": 88.0, \"is_budget_placement\": true, \"program\": \"ITMB\", \"ege_foreign\": null}, {\"name\": \"\\u041d\\u0438\\u0437\\u0430\\u043c\\u0435\\u0435\\u0432 \\u0422\\u0438\\u043c\\u0443\\u0440 \\u0418\\u0440\\u0438\\u043a\\u043e\\u0432\\u0438\\u0447\", \"total_score\": 195, \"ege_math\": 72.0, \"ege_russian\": 70.0, \"ege_it\": 53.0, \"is_budget_placement\": false, \"program\": \"ITMB\", \"ege_foreign\": null}, {\"name\": \"\\u041f\\u043e\\u043b\\u0435\\u0436\\u0430\\u0435\\u0432 \\u0410\\u043d\\u0442\\u043e\\u043d \\u041a\\u0438\\u0440\\u0438\\u043b\\u043b\\u043e\\u0432\\u0438\\u0447\", \"total_score\": 246, \"ege_math\": 82.0, \"ege_russian\": 76.0, \"ege_it\": 83.0, \"is_budget_placement\": false, \"program\": \"ITMB\", \"ege_foreign\": null}, {\"name\": \"\\u041f\\u043e\\u043f\\u043e\\u0432\\u0430 \\u0410\\u043d\\u0430\\u0441\\u0442\\u0430\\u0441\\u0438\\u044f \\u041c\\u0438\\u0445\\u0430\\u0439\\u043b\\u043e\\u0432\\u043d\\u0430\", \"total_score\": 280, \"ege_math\": 86.0, \"ege_russian\": 94.0, \"ege_it\": 100.0, \"is_budget_placement\": true, \"program\": \"ITMB\", \"ege_foreign\": null}, {\"name\": \"\\u041f\\u043e\\u0442\\u0451\\u043c\\u043a\\u0438\\u043d \\u041c\\u0430\\u0442\\u0432\\u0435\\u0439 \\u041e\\u043b\\u0435\\u0433\\u043e\\u0432\\u0438\\u0447\", \"total_score\": 223, \"ege_math\": 72.0, \"ege_russian\": 72.0, \"ege_it\": 79.0, \"is_budget_placement\": false, \"program\": \"ITMB\", \"ege_foreign\": null}, {\"name\": \"\\u041f\\u0440\\u043e\\u0445\\u043e\\u0440\\u043e\\u0432\\u0430 \\u0410\\u043d\\u0430\\u0441\\u0442\\u0430\\u0441\\u0438\\u044f \\u041d\\u0438\\u043a\\u043e\\u043b\\u0430\\u0435\\u0432\\u043d\\u0430\", \"total_score\": 203, \"ege_math\": 72.0, \"ege_russian\": 78.0, \"ege_it\": 53.0, \"is_budget_placement\": false, \"program\": \"ITMB\", \"ege_foreign\": null}, {\"name\": \"\\u0421\\u0430\\u0432\\u0435\\u043b\\u044c\\u0435\\u0432 \\u041d\\u0438\\u043a\\u0438\\u0442\\u0430 \\u0410\\u043b\\u0435\\u043a\\u0441\\u0430\\u043d\\u0434\\u0440\\u043e\\u0432\\u0438\\u0447\", \"total_score\": 241, \"ege_math\": 82.0, \"ege_russian\": 89.0, \"ege_it\": 70.0, \"is_budget_placement\": false, \"program\": \"ITMB\", \"ege_foreign\": null}, {\"name\": \"\\u0421\\u0438\\u043d\\u0442\\u044f\\u043b\\u0451\\u0432 \\u0410\\u043b\\u0435\\u043a\\u0441\\u0430\\u043d\\u0434\\u0440 \\u0410\\u043b\\u0435\\u043a\\u0441\\u0430\\u043d\\u0434\\u0440\\u043e\\u0432\\u0438\\u0447\", \"total_score\": 175, \"ege_math\": 56.0, \"ege_russian\": 51.0, \"ege_it\": 68.0, \"is_budget_placement\": false, \"program\": \"ITMB\", \"ege_foreign\": null}, {\"name\": \"\\u0421\\u043e\\u043a\\u043e\\u043b\\u043e\\u0432 \\u0410\\u043b\\u0435\\u043a\\u0441\\u0435\\u0439 \\u0414\\u043c\\u0438\\u0442\\u0440\\u0438\\u0435\\u0432\\u0438\\u0447\", \"total_score\": 190, \"ege_math\": 39.0, \"ege_russian\": 71.0, \"ege_it\": 80.0, \"is_budget_placement\": false, \"program\": \"ITMB\", \"ege_foreign\": null}, {\"name\": \"\\u0422\\u0443\\u0440\\u0438\\u0449\\u0435\\u0432 \\u041d\\u0438\\u043a\\u0438\\u0442\\u0430 \\u0412\\u043b\\u0430\\u0434\\u0438\\u043c\\u0438\\u0440\\u043e\\u0432\\u0438\\u0447\", \"total_score\": 270, \"ege_math\": 90.0, \"ege_russian\": 96.0, \"ege_it\": 84.0, \"is_budget_placement\": true, \"program\": \"ITMB\", \"ege_foreign\": null}, {\"name\": \"\\u0427\\u0435\\u0440\\u043a\\u0430\\u0441\\u043e\\u0432 \\u0410\\u043d\\u0434\\u0440\\u0435\\u0439 \\u0410\\u043d\\u0434\\u0440\\u0435\\u0435\\u0432\\u0438\\u0447\", \"total_score\": 186, \"ege_math\": 56.0, \"ege_russian\": 65.0, \"ege_it\": 65.0, \"is_budget_placement\": false, \"program\": \"ITMB\", \"ege_foreign\": null}, {\"name\": \"\\u0427\\u0435\\u0440\\u043a\\u0430\\u0441\\u043e\\u0432 \\u0410\\u0440\\u0442\\u0451\\u043c \\u041e\\u043b\\u0435\\u0433\\u043e\\u0432\\u0438\\u0447\", \"total_score\": 225, \"ege_math\": 78.0, \"ege_russian\": 72.0, \"ege_it\": 75.0, \"is_budget_placement\": false, \"program\": \"ITMB\", \"ege_foreign\": null}, {\"name\": \"\\u0421\\u0435\\u0440\\u0435\\u0433\\u0438\\u043d \\u0410\\u043b\\u0435\\u043a\\u0441\\u0435\\u0439 \\u0410\\u043b\\u0435\\u043a\\u0441\\u0430\\u043d\\u0434\\u0440\\u043e\\u0432\\u0438\\u0447\", \"total_score\": \"\\u043f\\u0435\\u0440\\u0435\\u0432\\u043e\\u0434\", \"ege_math\": null, \"ege_russian\": null, \"ege_it\": null, \"is_budget_placement\": false, \"program\": \"ITMB\", \"ege_foreign\": null}, {\"name\": \"\\u0421\\u0438\\u0442\\u043d\\u0438\\u043a\\u043e\\u0432 \\u0414\\u0435\\u043d\\u0438\\u0441 \\u0418\\u0433\\u043e\\u0440\\u0435\\u0432\\u0438\\u0447\", \"total_score\": \"\\u0432\\u043e\\u0441\\u0441\\u0442\\u0430\\u043d\\u043e\\u0432\", \"ege_math\": null, \"ege_russian\": null, \"ege_it\": null, \"is_budget_placement\": false, \"program\": \"ITMB\", \"ege_foreign\": null}, {\"name\": \"\\u041c\\u0430\\u0440\\u0438\\u043d\\u0447\\u0435\\u043d\\u043a\\u043e \\u0418\\u0433\\u043e\\u0440\\u044c \\u0418\\u0433\\u043e\\u0440\\u0435\\u0432\\u0438\\u0447\", \"total_score\": \"\\u043f\\u0435\\u0440\\u0435\\u0432\\u043e\\u0434\", \"ege_math\": null, \"ege_russian\": null, \"ege_it\": null, \"is_budget_placement\": false, \"program\": \"ITMB\", \"ege_foreign\": null}, {\"name\": \"\\u0410\\u0431\\u0434\\u0443\\u043b\\u043b\\u0430\\u0435\\u0432 \\u0428\\u0438\\u0445\\u0437\\u0430\\u0433\\u0438\\u0440 \\u0428\\u0438\\u0445\\u0432\\u0435\\u043b\\u0438\\u0435\\u0432\\u0438\\u0447\", \"total_score\": 183, \"ege_math\": 50.0, \"ege_russian\": 69.0, \"ege_it\": null, \"is_budget_placement\": false, \"program\": \"FET\", \"ege_foreign\": 60.0}, {\"name\": \"\\u041a\\u0440\\u0430\\u0441\\u043e\\u0432\\u0441\\u043a\\u0438\\u0439 \\u041c\\u0430\\u0442\\u0432\\u0435\\u0439 \\u0413\\u0435\\u043d\\u043d\\u0430\\u0434\\u044c\\u0435\\u0432\\u0438\\u0447\", \"total_score\": 213, \"ege_math\": 56.0, \"ege_russian\": 78.0, \"ege_it\": null, \"is_budget_placement\": false, \"program\": \"FET\", \"ege_foreign\": 78.0}, {\"name\": \"\\u041c\\u0430\\u0433\\u043e\\u043c\\u0435\\u0434\\u0445\\u0430\\u0436\\u0438\\u0435\\u0432 \\u0428\\u0430\\u0440\\u0438\\u043f \\u0420\\u0443\\u0441\\u043b\\u0430\\u043d\\u043e\\u0432\\u0438\\u0447\", \"total_score\": 179, \"ege_math\": 50.0, \"ege_russian\": 73.0, \"ege_it\": null, \"is_budget_placement\": false, \"program\": \"FET\", \"ege_foreign\": 56.0}, {\"name\": \"\\u041f\\u0430\\u043d\\u0430\\u0441\\u044e\\u043a \\u041c\\u0438\\u043b\\u0435\\u043d\\u0430 \\u0421\\u0435\\u0440\\u0433\\u0435\\u0435\\u0432\\u043d\\u0430\", \"total_score\": 251, \"ege_math\": 68.0, \"ege_russian\": 96.0, \"ege_it\": null, \"is_budget_placement\": false, \"program\": \"FET\", \"ege_foreign\": 83.0}, {\"name\": \"\\u0428\\u0430\\u043b\\u0430\\u0432\\u0438\\u043d \\u042d\\u0434\\u0443\\u0430\\u0440\\u0434 \\u0410\\u043b\\u0435\\u043a\\u0441\\u0430\\u043d\\u0434\\u0440\\u043e\\u0432\\u0438\\u0447\", \"total_score\": 243, \"ege_math\": 74.0, \"ege_russian\": 82.0, \"ege_it\": null, \"is_budget_placement\": false, \"program\": \"FET\", \"ege_foreign\": 87.0}, {\"name\": \"\\u042d\\u0434\\u0438\\u0435\\u0432 \\u0425\\u0430\\u0432\\u0430\\u0436-\\u0411\\u0430\\u0443\\u0434\\u0438\\u043d \\u0428\\u0430\\u043c\\u0438\\u043b\\u044c\\u0435\\u0432\\u0438\\u0447\", \"total_score\": 170, \"ege_math\": 50.0, \"ege_russian\": 66.0, \"ege_it\": null, \"is_budget_placement\": false, \"program\": \"FET\", \"ege_foreign\": 54.0}, {\"name\": \"\\u0418\\u0448\\u0445\\u0430\\u043d\\u043e\\u0432 \\u0413\\u0435\\u0440\\u043c\\u0430\\u043d \\u0410\\u0440\\u043c\\u0435\\u043d\\u043e\\u0432\\u0438\\u0447\", \"total_score\": \"\\u043f\\u0435\\u0440\\u0435\\u0432\\u043e\\u0434\", \"ege_math\": null, \"ege_russian\": null, \"ege_it\": null, \"is_budget_placement\": false, \"program\": \"FET\", \"ege_foreign\": null}, {\"name\": \"\\u0410\\u0433\\u0435\\u0435\\u043d\\u043a\\u043e \\u0414\\u043c\\u0438\\u0442\\u0440\\u0438\\u0439 \\u041e\\u043b\\u0435\\u0433\\u043e\\u0432\\u0438\\u0447\", \"total_score\": 209, \"ege_math\": 56.0, \"ege_russian\": 78.0, \"ege_it\": null, \"is_budget_placement\": false, \"program\": \"FM\", \"ege_foreign\": 75.0}, {\"name\": \"\\u0411\\u0440\\u043e\\u043d\\u043d\\u0438\\u043a\\u043e\\u0432 \\u0410\\u043b\\u0435\\u043a\\u0441\\u0430\\u043d\\u0434\\u0440 \\u0421\\u0435\\u0440\\u0433\\u0435\\u0435\\u0432\\u0438\\u0447\", \"total_score\": 204, \"ege_math\": 50.0, \"ege_russian\": 85.0, \"ege_it\": null, \"is_budget_placement\": false, \"program\": \"FM\", \"ege_foreign\": 69.0}, {\"name\": \"\\u0411\\u0443\\u0445\\u043d\\u043e\\u0432 \\u0410\\u043b\\u0435\\u043a\\u0441\\u0435\\u0439 \\u0412\\u0438\\u043a\\u0442\\u043e\\u0440\\u043e\\u0432\\u0438\\u0447\", \"total_score\": 253, \"ege_math\": 82.0, \"ege_russian\": 85.0, \"ege_it\": null, \"is_budget_placement\": false, \"program\": \"FM\", \"ege_foreign\": 86.0}, {\"name\": \"\\u0413\\u043e\\u0434\\u0436\\u0430\\u0435\\u0432 \\u042d\\u043c\\u0438\\u0440 \\u0418\\u043b\\u044c\\u0433\\u0430\\u0440\\u043e\\u0432\\u0438\\u0447\", \"total_score\": 204, \"ege_math\": 62.0, \"ege_russian\": 82.0, \"ege_it\": null, \"is_budget_placement\": false, \"program\": \"FM\", \"ege_foreign\": 60.0}, {\"name\": \"\\u0415\\u043b\\u0438\\u0437\\u0430\\u0440\\u043e\\u0432\\u0430 \\u042f\\u043d\\u0430 \\u041f\\u0430\\u0432\\u043b\\u043e\\u0432\\u043d\\u0430\", \"total_score\": 262, \"ege_math\": 80.0, \"ege_russian\": 94.0, \"ege_it\": null, \"is_budget_placement\": false, \"program\": \"FM\", \"ege_foreign\": 83.0}, {\"name\": \"\\u0421\\u0430\\u043c\\u043e\\u0445\\u0438\\u043d\\u0430 \\u0414\\u0438\\u0430\\u043d\\u0430 \\u0420\\u043e\\u043c\\u0430\\u043d\\u043e\\u0432\\u043d\\u0430\", \"total_score\": 206, \"ege_math\": 56.0, \"ege_russian\": 76.0, \"ege_it\": null, \"is_budget_placement\": false, \"program\": \"FM\", \"ege_foreign\": 74.0}, {\"name\": \"\\u0421\\u0431\\u0440\\u0443\\u0435\\u0432 \\u0413\\u0440\\u0438\\u0433\\u043e\\u0440\\u0438\\u0439 \\u0422\\u0438\\u043c\\u0443\\u0440\\u043e\\u0432\\u0438\\u0447\", \"total_score\": 185, \"ege_math\": 56.0, \"ege_russian\": 56.0, \"ege_it\": null, \"is_budget_placement\": false, \"program\": \"FM\", \"ege_foreign\": 73.0}, {\"name\": \"\\u0421\\u043a\\u043e\\u0431\\u0446\\u043e\\u0432\\u0430 \\u0410\\u043d\\u043d\\u0430 \\u041c\\u0430\\u043a\\u0441\\u0438\\u043c\\u043e\\u0432\\u043d\\u0430\", \"total_score\": 249, \"ege_math\": 72.0, \"ege_russian\": 89.0, \"ege_it\": null, \"is_budget_placement\": false, \"program\": \"FM\", \"ege_foreign\": 88.0}, {\"name\": \"\\u0422\\u0430\\u0440\\u0430\\u0431\\u0443\\u043a\\u0438\\u043d \\u0410\\u0440\\u0442\\u0435\\u043c \\u0414\\u043c\\u0438\\u0442\\u0440\\u0438\\u0435\\u0432\\u0438\\u0447\", \"total_score\": 212, \"ege_math\": 50.0, \"ege_russian\": 76.0, \"ege_it\": null, \"is_budget_placement\": false, \"program\": \"FM\", \"ege_foreign\": 86.0}, {\"name\": \"\\u0422\\u0438\\u0445\\u043e\\u043d\\u043e\\u0432 \\u0410\\u043d\\u0434\\u0440\\u0435\\u0439 \\u0410\\u043b\\u0435\\u043a\\u0441\\u0430\\u043d\\u0434\\u0440\\u043e\\u0432\\u0438\\u0447\", \"total_score\": 179, \"ege_math\": 50.0, \"ege_russian\": 65.0, \"ege_it\": null, \"is_budget_placement\": false, \"program\": \"FM\", \"ege_foreign\": 64.0}, {\"name\": \"\\u042e\\u0437\\u0432\\u043e\\u0432\\u0438\\u0447 \\u0418\\u043b\\u044c\\u044f \\u0410\\u043b\\u0435\\u043a\\u0441\\u0430\\u043d\\u0434\\u0440\\u043e\\u0432\\u0438\\u0447\", \"total_score\": 192, \"ege_math\": 62.0, \"ege_russian\": 72.0, \"ege_it\": null, \"is_budget_placement\": false, \"program\": \"FM\", \"ege_foreign\": 58.0}, {\"name\": \"\\u0421\\u043e\\u0431\\u043e\\u043b\\u0435\\u0432 \\u0421\\u0435\\u0440\\u0433\\u0435\\u0439 \\u0421\\u0435\\u0440\\u0433\\u0435\\u0435\\u0432\\u0438\\u0447\", \"total_score\": \"\\u0432\\u043e\\u0441\\u0441\\u0442\\u0430\\u043d\\u043e\\u0432\", \"ege_math\": null, \"ege_russian\": null, \"ege_it\": null, \"is_budget_placement\": false, \"program\": \"FM\", \"ege_foreign\": null}, {\"name\": \"\\u0411\\u0443\\u0440\\u043a\\u043e\\u0432\\u0430 \\u0421\\u0432\\u0435\\u0442\\u043b\\u0430\\u043d\\u0430 \\u0421\\u0435\\u0440\\u0433\\u0435\\u0435\\u0432\\u043d\\u0430\", \"total_score\": \"\\u043f\\u0435\\u0440\\u0435\\u0432\\u043e\\u0434\", \"ege_math\": null, \"ege_russian\": null, \"ege_it\": null, \"is_budget_placement\": false, \"program\": \"FM\", \"ege_foreign\": null}, {\"name\": \"\\u042f\\u0441\\u0442\\u0440\\u0435\\u0431\\u043e\\u0432 \\u041a\\u0438\\u0440\\u0438\\u043b\\u043b \\u0412\\u0438\\u0442\\u0430\\u043b\\u044c\\u0435\\u0432\\u0438\\u0447\", \"total_score\": \"\\u043f\\u0435\\u0440\\u0435\\u0432\\u043e\\u0434\", \"ege_math\": null, \"ege_russian\": null, \"ege_it\": null, \"is_budget_placement\": false, \"program\": \"FM\", \"ege_foreign\": null}]}}, {\"mode\": \"vega-lite\"});\n",
              "</script>"
            ]
          },
          "metadata": {
            "tags": []
          },
          "execution_count": 14
        }
      ]
    },
    {
      "cell_type": "code",
      "metadata": {
        "id": "NjG2QUSHce87"
      },
      "source": [
        ""
      ],
      "execution_count": null,
      "outputs": []
    }
  ]
}