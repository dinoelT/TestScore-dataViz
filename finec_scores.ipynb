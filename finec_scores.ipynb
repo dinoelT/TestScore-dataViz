{
  "nbformat": 4,
  "nbformat_minor": 0,
  "metadata": {
    "colab": {
      "name": "finec_scores.ipynb",
      "provenance": [],
      "collapsed_sections": [],
      "authorship_tag": "ABX9TyNO19OvnT1L6OfEMyB5qr/E",
      "include_colab_link": true
    },
    "kernelspec": {
      "name": "python3",
      "display_name": "Python 3"
    },
    "language_info": {
      "name": "python"
    }
  },
  "cells": [
    {
      "cell_type": "markdown",
      "metadata": {
        "id": "view-in-github",
        "colab_type": "text"
      },
      "source": [
        "<a href=\"https://colab.research.google.com/github/epogrebnyak/TestScore-dataViz/blob/main/finec_scores.ipynb\" target=\"_parent\"><img src=\"https://colab.research.google.com/assets/colab-badge.svg\" alt=\"Open In Colab\"/></a>"
      ]
    },
    {
      "cell_type": "code",
      "metadata": {
        "id": "W82JihhTnGup"
      },
      "source": [
        "import altair as alt\n",
        "import pandas as pd\n",
        "\n",
        "df = pd.read_csv(\"https://raw.githubusercontent.com/epogrebnyak/TestScore-dataViz/main/ege_scores.csv\")"
      ],
      "execution_count": 25,
      "outputs": []
    },
    {
      "cell_type": "code",
      "metadata": {
        "id": "b8993fADsVJa"
      },
      "source": [
        "ix1 = (df.ege_math + df.ege_russian) > 0 # drop transfers\n",
        "ix2 = df.program.isin( [\n",
        "                        \"FET\", \n",
        "                        \"FM\", \n",
        "                        \"ITMB\"\n",
        "                        ]) # select programs\n",
        "plot_df = df[ix1 & ix2]"
      ],
      "execution_count": 37,
      "outputs": []
    },
    {
      "cell_type": "code",
      "metadata": {
        "colab": {
          "base_uri": "https://localhost:8080/",
          "height": 368
        },
        "id": "rT87g6s7on5K",
        "outputId": "4409a31f-a46f-445d-cb09-63f43a2977ad"
      },
      "source": [
        "x_col_name = 'ege_math'\n",
        "y_col_name = 'ege_russian'\n",
        "\n",
        "alt.Chart(plot_df).mark_circle(size=100).encode(\n",
        "    alt.X(x_col_name, scale=alt.Scale(zero=False)),\n",
        "    alt.Y(y_col_name,scale=alt.Scale(zero=False)),\n",
        "    color='program',\n",
        "    tooltip=[x_col_name, y_col_name]\n",
        ").interactive()"
      ],
      "execution_count": 38,
      "outputs": [
        {
          "output_type": "execute_result",
          "data": {
            "text/plain": [
              "alt.Chart(...)"
            ],
            "text/html": [
              "\n",
              "<div id=\"altair-viz-3d38884f1c7b45cab54368da71eee9b0\"></div>\n",
              "<script type=\"text/javascript\">\n",
              "  (function(spec, embedOpt){\n",
              "    let outputDiv = document.currentScript.previousElementSibling;\n",
              "    if (outputDiv.id !== \"altair-viz-3d38884f1c7b45cab54368da71eee9b0\") {\n",
              "      outputDiv = document.getElementById(\"altair-viz-3d38884f1c7b45cab54368da71eee9b0\");\n",
              "    }\n",
              "    const paths = {\n",
              "      \"vega\": \"https://cdn.jsdelivr.net/npm//vega@5?noext\",\n",
              "      \"vega-lib\": \"https://cdn.jsdelivr.net/npm//vega-lib?noext\",\n",
              "      \"vega-lite\": \"https://cdn.jsdelivr.net/npm//vega-lite@4.8.1?noext\",\n",
              "      \"vega-embed\": \"https://cdn.jsdelivr.net/npm//vega-embed@6?noext\",\n",
              "    };\n",
              "\n",
              "    function loadScript(lib) {\n",
              "      return new Promise(function(resolve, reject) {\n",
              "        var s = document.createElement('script');\n",
              "        s.src = paths[lib];\n",
              "        s.async = true;\n",
              "        s.onload = () => resolve(paths[lib]);\n",
              "        s.onerror = () => reject(`Error loading script: ${paths[lib]}`);\n",
              "        document.getElementsByTagName(\"head\")[0].appendChild(s);\n",
              "      });\n",
              "    }\n",
              "\n",
              "    function showError(err) {\n",
              "      outputDiv.innerHTML = `<div class=\"error\" style=\"color:red;\">${err}</div>`;\n",
              "      throw err;\n",
              "    }\n",
              "\n",
              "    function displayChart(vegaEmbed) {\n",
              "      vegaEmbed(outputDiv, spec, embedOpt)\n",
              "        .catch(err => showError(`Javascript Error: ${err.message}<br>This usually means there's a typo in your chart specification. See the javascript console for the full traceback.`));\n",
              "    }\n",
              "\n",
              "    if(typeof define === \"function\" && define.amd) {\n",
              "      requirejs.config({paths});\n",
              "      require([\"vega-embed\"], displayChart, err => showError(`Error loading script: ${err.message}`));\n",
              "    } else if (typeof vegaEmbed === \"function\") {\n",
              "      displayChart(vegaEmbed);\n",
              "    } else {\n",
              "      loadScript(\"vega\")\n",
              "        .then(() => loadScript(\"vega-lite\"))\n",
              "        .then(() => loadScript(\"vega-embed\"))\n",
              "        .catch(showError)\n",
              "        .then(() => displayChart(vegaEmbed));\n",
              "    }\n",
              "  })({\"config\": {\"view\": {\"continuousWidth\": 400, \"continuousHeight\": 300}}, \"data\": {\"name\": \"data-a34c919eca219f9df7f1bdb1789fda1d\"}, \"mark\": {\"type\": \"circle\", \"size\": 100}, \"encoding\": {\"color\": {\"type\": \"nominal\", \"field\": \"program\"}, \"tooltip\": [{\"type\": \"quantitative\", \"field\": \"ege_math\"}, {\"type\": \"quantitative\", \"field\": \"ege_russian\"}], \"x\": {\"type\": \"quantitative\", \"field\": \"ege_math\", \"scale\": {\"zero\": false}}, \"y\": {\"type\": \"quantitative\", \"field\": \"ege_russian\", \"scale\": {\"zero\": false}}}, \"selection\": {\"selector013\": {\"type\": \"interval\", \"bind\": \"scales\", \"encodings\": [\"x\", \"y\"]}}, \"$schema\": \"https://vega.github.io/schema/vega-lite/v4.8.1.json\", \"datasets\": {\"data-a34c919eca219f9df7f1bdb1789fda1d\": [{\"program\": \"ITMB\", \"is_budget\": false, \"ege_math\": 75.0, \"ege_russian\": 98.0, \"ege_it\": 70.0, \"ege_foreign\": null}, {\"program\": \"ITMB\", \"is_budget\": true, \"ege_math\": 96.0, \"ege_russian\": 89.0, \"ege_it\": 96.0, \"ege_foreign\": null}, {\"program\": \"ITMB\", \"is_budget\": false, \"ege_math\": 45.0, \"ege_russian\": 96.0, \"ege_it\": 94.0, \"ege_foreign\": null}, {\"program\": \"ITMB\", \"is_budget\": false, \"ege_math\": 70.0, \"ege_russian\": 81.0, \"ege_it\": 66.0, \"ege_foreign\": null}, {\"program\": \"ITMB\", \"is_budget\": false, \"ege_math\": 78.0, \"ege_russian\": 85.0, \"ege_it\": 79.0, \"ege_foreign\": null}, {\"program\": \"ITMB\", \"is_budget\": true, \"ege_math\": 86.0, \"ege_russian\": 89.0, \"ege_it\": 96.0, \"ege_foreign\": null}, {\"program\": \"ITMB\", \"is_budget\": false, \"ege_math\": 45.0, \"ege_russian\": 72.0, \"ege_it\": 67.0, \"ege_foreign\": null}, {\"program\": \"ITMB\", \"is_budget\": false, \"ege_math\": 74.0, \"ege_russian\": 91.0, \"ege_it\": 83.0, \"ege_foreign\": null}, {\"program\": \"ITMB\", \"is_budget\": false, \"ege_math\": 72.0, \"ege_russian\": 71.0, \"ege_it\": 73.0, \"ege_foreign\": null}, {\"program\": \"ITMB\", \"is_budget\": false, \"ege_math\": 68.0, \"ege_russian\": 56.0, \"ege_it\": 68.0, \"ege_foreign\": null}, {\"program\": \"ITMB\", \"is_budget\": false, \"ege_math\": 74.0, \"ege_russian\": 80.0, \"ege_it\": 81.0, \"ege_foreign\": null}, {\"program\": \"ITMB\", \"is_budget\": false, \"ege_math\": 70.0, \"ege_russian\": 70.0, \"ege_it\": 73.0, \"ege_foreign\": null}, {\"program\": \"ITMB\", \"is_budget\": true, \"ege_math\": 82.0, \"ege_russian\": 98.0, \"ege_it\": 88.0, \"ege_foreign\": null}, {\"program\": \"ITMB\", \"is_budget\": false, \"ege_math\": 72.0, \"ege_russian\": 70.0, \"ege_it\": 53.0, \"ege_foreign\": null}, {\"program\": \"ITMB\", \"is_budget\": false, \"ege_math\": 82.0, \"ege_russian\": 76.0, \"ege_it\": 83.0, \"ege_foreign\": null}, {\"program\": \"ITMB\", \"is_budget\": true, \"ege_math\": 86.0, \"ege_russian\": 94.0, \"ege_it\": 100.0, \"ege_foreign\": null}, {\"program\": \"ITMB\", \"is_budget\": false, \"ege_math\": 72.0, \"ege_russian\": 72.0, \"ege_it\": 79.0, \"ege_foreign\": null}, {\"program\": \"ITMB\", \"is_budget\": false, \"ege_math\": 72.0, \"ege_russian\": 78.0, \"ege_it\": 53.0, \"ege_foreign\": null}, {\"program\": \"ITMB\", \"is_budget\": false, \"ege_math\": 82.0, \"ege_russian\": 89.0, \"ege_it\": 70.0, \"ege_foreign\": null}, {\"program\": \"ITMB\", \"is_budget\": false, \"ege_math\": 56.0, \"ege_russian\": 51.0, \"ege_it\": 68.0, \"ege_foreign\": null}, {\"program\": \"ITMB\", \"is_budget\": false, \"ege_math\": 39.0, \"ege_russian\": 71.0, \"ege_it\": 80.0, \"ege_foreign\": null}, {\"program\": \"ITMB\", \"is_budget\": true, \"ege_math\": 90.0, \"ege_russian\": 96.0, \"ege_it\": 84.0, \"ege_foreign\": null}, {\"program\": \"ITMB\", \"is_budget\": false, \"ege_math\": 56.0, \"ege_russian\": 65.0, \"ege_it\": 65.0, \"ege_foreign\": null}, {\"program\": \"ITMB\", \"is_budget\": false, \"ege_math\": 78.0, \"ege_russian\": 72.0, \"ege_it\": 75.0, \"ege_foreign\": null}, {\"program\": \"FET\", \"is_budget\": false, \"ege_math\": 50.0, \"ege_russian\": 69.0, \"ege_it\": null, \"ege_foreign\": 60.0}, {\"program\": \"FET\", \"is_budget\": false, \"ege_math\": 56.0, \"ege_russian\": 78.0, \"ege_it\": null, \"ege_foreign\": 78.0}, {\"program\": \"FET\", \"is_budget\": false, \"ege_math\": 50.0, \"ege_russian\": 73.0, \"ege_it\": null, \"ege_foreign\": 56.0}, {\"program\": \"FET\", \"is_budget\": false, \"ege_math\": 68.0, \"ege_russian\": 96.0, \"ege_it\": null, \"ege_foreign\": 83.0}, {\"program\": \"FET\", \"is_budget\": false, \"ege_math\": 74.0, \"ege_russian\": 82.0, \"ege_it\": null, \"ege_foreign\": 87.0}, {\"program\": \"FET\", \"is_budget\": false, \"ege_math\": 50.0, \"ege_russian\": 66.0, \"ege_it\": null, \"ege_foreign\": 54.0}, {\"program\": \"FM\", \"is_budget\": false, \"ege_math\": 56.0, \"ege_russian\": 78.0, \"ege_it\": null, \"ege_foreign\": 75.0}, {\"program\": \"FM\", \"is_budget\": false, \"ege_math\": 50.0, \"ege_russian\": 85.0, \"ege_it\": null, \"ege_foreign\": 69.0}, {\"program\": \"FM\", \"is_budget\": false, \"ege_math\": 82.0, \"ege_russian\": 85.0, \"ege_it\": null, \"ege_foreign\": 86.0}, {\"program\": \"FM\", \"is_budget\": false, \"ege_math\": 62.0, \"ege_russian\": 82.0, \"ege_it\": null, \"ege_foreign\": 60.0}, {\"program\": \"FM\", \"is_budget\": false, \"ege_math\": 80.0, \"ege_russian\": 94.0, \"ege_it\": null, \"ege_foreign\": 83.0}, {\"program\": \"FM\", \"is_budget\": false, \"ege_math\": 56.0, \"ege_russian\": 76.0, \"ege_it\": null, \"ege_foreign\": 74.0}, {\"program\": \"FM\", \"is_budget\": false, \"ege_math\": 56.0, \"ege_russian\": 56.0, \"ege_it\": null, \"ege_foreign\": 73.0}, {\"program\": \"FM\", \"is_budget\": false, \"ege_math\": 72.0, \"ege_russian\": 89.0, \"ege_it\": null, \"ege_foreign\": 88.0}, {\"program\": \"FM\", \"is_budget\": false, \"ege_math\": 50.0, \"ege_russian\": 76.0, \"ege_it\": null, \"ege_foreign\": 86.0}, {\"program\": \"FM\", \"is_budget\": false, \"ege_math\": 50.0, \"ege_russian\": 65.0, \"ege_it\": null, \"ege_foreign\": 64.0}, {\"program\": \"FM\", \"is_budget\": false, \"ege_math\": 62.0, \"ege_russian\": 72.0, \"ege_it\": null, \"ege_foreign\": 58.0}]}}, {\"mode\": \"vega-lite\"});\n",
              "</script>"
            ]
          },
          "metadata": {
            "tags": []
          },
          "execution_count": 38
        }
      ]
    }
  ]
}